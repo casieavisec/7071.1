{
 "cells": [
  {
   "cell_type": "markdown",
   "id": "1862909c",
   "metadata": {},
   "source": [
    "In this notebook, the goal is to create an indexer for the crawled data stored in a database.<br>\n",
    "The database is <i>database.csv</i> which is in the same working directory.<br><br>\n",
    "seed_url = https://pureportal.coventry.ac.uk/en/organisations/centre-global-learning"
   ]
  },
  {
   "cell_type": "markdown",
   "id": "5b835cda",
   "metadata": {},
   "source": [
    "At the end, query search is implemented and the relevant results are displayed."
   ]
  },
  {
   "cell_type": "markdown",
   "id": "5adff529",
   "metadata": {},
   "source": [
    "Before running this notebook, please check the <i>scheduled_crawler.ipynb</i> notebook."
   ]
  },
  {
   "cell_type": "markdown",
   "id": "15b2b1c3",
   "metadata": {},
   "source": [
    "# Import Required Libraries"
   ]
  },
  {
   "cell_type": "code",
   "execution_count": 1,
   "id": "cecd65b0",
   "metadata": {},
   "outputs": [],
   "source": [
    "import pandas as pd\n",
    "from bs4 import BeautifulSoup\n",
    "import requests\n",
    "import re\n",
    "from sklearn.feature_extraction.text import TfidfVectorizer\n",
    "from sklearn.metrics.pairwise import cosine_similarity\n",
    "from collections import defaultdict\n",
    "import nltk\n",
    "# nltk.download(\"stopwords\")\n",
    "from nltk.corpus import stopwords\n",
    "from nltk.stem import PorterStemmer\n",
    "\n",
    "# import warnings\n",
    "# warnings.filterwarnings(\"ignore\")"
   ]
  },
  {
   "cell_type": "markdown",
   "id": "8963f402",
   "metadata": {},
   "source": [
    "# Create some helper functions."
   ]
  },
  {
   "cell_type": "markdown",
   "id": "8e8c2aea",
   "metadata": {},
   "source": [
    "### Create list of CGL profiles"
   ]
  },
  {
   "cell_type": "code",
   "execution_count": 2,
   "id": "19df1e7e",
   "metadata": {},
   "outputs": [],
   "source": [
    "def CGLprofiles():\n",
    "    \"\"\"\n",
    "    This function creates a list of profiles on CGL\n",
    "    \"\"\"\n",
    "    profiles_link = seed_url+\"/persons\"\n",
    "    profile_page = requests.get(profiles_link)\n",
    "    soup3 = BeautifulSoup(profile_page.text, \"html.parser\")\n",
    "    \n",
    "    persons_list = soup3.find_all(\"a\", class_ = \"link person\")\n",
    "    profiles = []\n",
    "    for person in persons_list:\n",
    "        profiles.append(person.get_text())\n",
    "    return profiles"
   ]
  },
  {
   "cell_type": "markdown",
   "id": "ee032ea7",
   "metadata": {},
   "source": [
    "###### Demonstration"
   ]
  },
  {
   "cell_type": "code",
   "execution_count": 3,
   "id": "234715a3",
   "metadata": {},
   "outputs": [
    {
     "data": {
      "text/plain": [
       "['Sian Alsop',\n",
       " 'Dimitar Angelov',\n",
       " 'Rami Ayoubi',\n",
       " 'Ema Baukaite',\n",
       " 'Julia Carroll',\n",
       " 'Jacqueline Cawston',\n",
       " 'Megan Crawford',\n",
       " 'QueAnh Dang',\n",
       " 'Alun DeWinter',\n",
       " 'Ken Fero',\n",
       " 'Mark Hodds',\n",
       " 'Sylwia Holmes',\n",
       " 'Elizabeth Horton',\n",
       " 'Jaya Jacobo',\n",
       " 'Emmanuel Johnson',\n",
       " 'Mehmet Karakus',\n",
       " 'Luca Morini',\n",
       " 'Marina Orsini-Jones',\n",
       " 'Charlotte Price',\n",
       " 'Steve Raven',\n",
       " 'Carlo Tramontano',\n",
       " 'Katherine Wimpenny']"
      ]
     },
     "execution_count": 3,
     "metadata": {},
     "output_type": "execute_result"
    }
   ],
   "source": [
    "seed_url = \"https://pureportal.coventry.ac.uk/en/organisations/centre-global-learning\"\n",
    "page = requests.get(seed_url)\n",
    "soup = BeautifulSoup(page.text, \"html.parser\")\n",
    "profiles = CGLprofiles()\n",
    "profiles"
   ]
  },
  {
   "cell_type": "markdown",
   "id": "b1e534da",
   "metadata": {},
   "source": [
    "### Display only CGL authors"
   ]
  },
  {
   "cell_type": "code",
   "execution_count": 4,
   "id": "d086c74d",
   "metadata": {},
   "outputs": [],
   "source": [
    "def displayResult(link):\n",
    "    \"\"\"\n",
    "    This function is used to check if the author is from CGL, and only display the \n",
    "    author link if it has profile on CGL.\n",
    "    Takes in publication link as the input.\n",
    "    \"\"\"\n",
    "    paper = requests.get(link)\n",
    "    soup2 = BeautifulSoup(paper.text, \"html.parser\")\n",
    "    authors = soup2.select_one(\"p\", class_ = \"relations persons\")\n",
    "    authors = authors.get_text()\n",
    "    authors = re.sub(r'\\s*\\([^)]*\\)', '', authors).split(\", \") # list of authors\n",
    "    \n",
    "    title = soup2.select_one('h1').get_text()\n",
    "\n",
    "    date = soup2.select_one('.date').get_text()\n",
    "\n",
    "    print(title)\n",
    "    print(link, end='\\n\\n')\n",
    "\n",
    "    # to create links to CGL authors\n",
    "    print(\"Authors:\")\n",
    "    for author in authors:\n",
    "        if author in profiles:\n",
    "            print(author)\n",
    "            print((\"https://pureportal.coventry.ac.uk/en/persons/\")+(author.lower().replace(\" \",\"-\")))\n",
    "\n",
    "        else:\n",
    "            print(author,end='\\n\\n')\n",
    "    print(\"\\nDate: \", date)\n",
    "    "
   ]
  },
  {
   "cell_type": "markdown",
   "id": "df5ffd44",
   "metadata": {},
   "source": [
    "###### Demonstration"
   ]
  },
  {
   "cell_type": "code",
   "execution_count": 5,
   "id": "0e79c569",
   "metadata": {},
   "outputs": [
    {
     "name": "stdout",
     "output_type": "stream",
     "text": [
      "Carnival of invention\n",
      "https://pureportal.coventry.ac.uk/en/publications/carnival-of-invention\n",
      "\n",
      "Authors:\n",
      "Jenny Fennessy\n",
      "\n",
      "Sandie Woods\n",
      "\n",
      "Helen Johnson\n",
      "\n",
      "Carol Rivas\n",
      "\n",
      "David Norbury\n",
      "\n",
      "Isilda Almeida-Harvey\n",
      "\n",
      "Jessica Moriarty\n",
      "\n",
      "Katherine Wimpenny\n",
      "https://pureportal.coventry.ac.uk/en/persons/katherine-wimpenny\n",
      "Kerensa Bushell\n",
      "\n",
      "Polly Blake\n",
      "\n",
      "\n",
      "Date:  1 May 2019\n"
     ]
    }
   ],
   "source": [
    "displayResult(\"https://pureportal.coventry.ac.uk/en/publications/carnival-of-invention\")"
   ]
  },
  {
   "cell_type": "markdown",
   "id": "9b2dc2c9",
   "metadata": {},
   "source": [
    "# Preprocessing"
   ]
  },
  {
   "cell_type": "markdown",
   "id": "d4913d68",
   "metadata": {},
   "source": [
    "This is a helper function which preprocesses the text. <br>\n",
    "It does the following: <br> \n",
    "<br>\n",
    "• convert text into lower case<br>\n",
    "• remove special characters, punctuations and numbers<br>\n",
    "• tokenize into words<br>\n",
    "• remove stop words<br>\n",
    "• stemming<br>\n",
    "<br>\n",
    "After the above preprocessing task, it again joins all the words back into a single string."
   ]
  },
  {
   "cell_type": "code",
   "execution_count": 6,
   "id": "36e9145b",
   "metadata": {},
   "outputs": [],
   "source": [
    "def preprocessText(text):\n",
    "    \"\"\"\n",
    "    This function preprocesses the text into a clean and consistent format that can\n",
    "    be fed into a model for further analysis.\n",
    "    \"\"\"\n",
    "    # lowercase\n",
    "    text = text.lower()\n",
    "    \n",
    "    # remove special characters, punctuations and numbers\n",
    "    text = re.sub(r\"[^a-zA-Z\\s]\", \"\", text)\n",
    "\n",
    "    # tokenize into words\n",
    "    words = text.split()\n",
    "\n",
    "    # remove stop words\n",
    "    sw = stopwords.words('english')\n",
    "    words = [word for word in words if word not in sw]\n",
    "\n",
    "    # stemming\n",
    "    ps = PorterStemmer()\n",
    "    words = [(ps.stem(word)) for word in words]\n",
    "\n",
    "    # join the processed words back into a single string\n",
    "    processed_text = \" \".join(words)\n",
    "\n",
    "    return processed_text\n"
   ]
  },
  {
   "cell_type": "markdown",
   "id": "a0846aa1",
   "metadata": {},
   "source": [
    "###### Demonstration"
   ]
  },
  {
   "cell_type": "code",
   "execution_count": 7,
   "id": "9cb4b9b1",
   "metadata": {},
   "outputs": [
    {
     "data": {
      "text/plain": [
       "'random text preprocesstext function creat clean consist text string wink wink'"
      ]
     },
     "execution_count": 7,
     "metadata": {},
     "output_type": "execute_result"
    }
   ],
   "source": [
    "preprocessText(\"\"\"This is a random text. 123 *&^%]} THE preprocessText \n",
    "    FUNCTION CREATES A CLEAN & \"COnsistent\" text string. wink wink ;) \"\"\")"
   ]
  },
  {
   "cell_type": "markdown",
   "id": "d9ec2db2",
   "metadata": {},
   "source": [
    "# Function to create Inverted Index"
   ]
  },
  {
   "cell_type": "code",
   "execution_count": 8,
   "id": "7bb4ccf0",
   "metadata": {},
   "outputs": [],
   "source": [
    "def createInvertedIndex(document, inverted_index):\n",
    "    \"\"\"\n",
    "    This function is used to create an inverted index using python defaultdict.\n",
    "    Inputs are document to be indexed and dictionary to be made.\n",
    "    It returns the inverted index dictionary.\n",
    "    \"\"\"\n",
    "    for index, doc in enumerate(document):\n",
    "        for term in doc.split():\n",
    "            if term in inverted_index:\n",
    "                inverted_index[term].add(index)\n",
    "\n",
    "            else:\n",
    "                inverted_index[term] = {index}\n",
    "    return inverted_index"
   ]
  },
  {
   "cell_type": "markdown",
   "id": "02a2f6b6",
   "metadata": {},
   "source": [
    "###### Demonstration"
   ]
  },
  {
   "cell_type": "code",
   "execution_count": 9,
   "id": "f5b43d5c",
   "metadata": {},
   "outputs": [
    {
     "data": {
      "text/plain": [
       "defaultdict(list,\n",
       "            {'random': {0, 2},\n",
       "             'person': {0, 3},\n",
       "             'music': {0, 2},\n",
       "             'avishek': {1},\n",
       "             'cat': {2, 3},\n",
       "             'text': {3}})"
      ]
     },
     "execution_count": 9,
     "metadata": {},
     "output_type": "execute_result"
    }
   ],
   "source": [
    "# create test doc\n",
    "test_doc = pd.Series(['random person music','avishek','music random random cat',\n",
    "                      'person cat text'])\n",
    "\n",
    "# create an empty dictionary for inveted index\n",
    "test_index = defaultdict(list)\n",
    "\n",
    "# create inverted index\n",
    "createInvertedIndex(test_doc, test_index)\n",
    "\n",
    "# print(test_doc)"
   ]
  },
  {
   "cell_type": "markdown",
   "id": "b63576c7",
   "metadata": {},
   "source": [
    "### Search Function"
   ]
  },
  {
   "cell_type": "code",
   "execution_count": 10,
   "id": "9186eb0f",
   "metadata": {},
   "outputs": [],
   "source": [
    "def search(query):\n",
    "    \"\"\"\n",
    "    This function takes in user query and displays the relevant results.\n",
    "    It also displays the total number of relevant outputs.\n",
    "    \"\"\"\n",
    "    # preprocess the query\n",
    "    processed_query = preprocessText(query)\n",
    "    \n",
    "    # tokenize query\n",
    "    query_terms = processed_query.split()\n",
    "\n",
    "    # compare with inverted index\n",
    "    relevant_docs = set() # creating empty set to make sure no duplicate index is added\n",
    "    \n",
    "    for term in query_terms:\n",
    "        if term in inverted_index_db: # inverted_index\n",
    "            relevant_docs.update(inverted_index_db[term])\n",
    "\n",
    "    relevant_docs = list(relevant_docs) # convert to list\n",
    "    \n",
    "    if relevant_docs != []:\n",
    "        # tfidf\n",
    "        tfidf_query = vectorizer.transform([processed_query])\n",
    "        \n",
    "        # calculate cosine similarity for the relevant docs\n",
    "        cosine_similarities = cosine_similarity(tfidf_query, tfidf_matrix[relevant_docs])\n",
    "\n",
    "        # sort the relevant documents based on similarity scores\n",
    "        sorted_docs = sorted(zip(relevant_docs, cosine_similarities[0]), key=lambda x: x[1], reverse=True)\n",
    "        \n",
    "        # for numbering\n",
    "        i=1\n",
    "\n",
    "        for index, text in sorted_docs:\n",
    "            print(i,'. ', end='')\n",
    "            displayResult(doc_to_index.Publication_Link[index])\n",
    "            print(\"----------------------------------------------------------------------\\n\")\n",
    "\n",
    "            i+=1\n",
    "    else:\n",
    "        print('No matching result for \"', query, '\". Please try another.')\n",
    "    print(\"Total results displayed: \",len(relevant_docs))"
   ]
  },
  {
   "cell_type": "markdown",
   "id": "25bbfcfd",
   "metadata": {},
   "source": [
    "# Read the database and Create Inverted Index"
   ]
  },
  {
   "cell_type": "code",
   "execution_count": 11,
   "id": "2f552268",
   "metadata": {},
   "outputs": [],
   "source": [
    "# read the database\n",
    "doc_to_index = pd.read_csv(\"database.csv\")\n",
    "# combine Title and Authors for indexing\n",
    "doc_to_index['Text'] = doc_to_index['Title']+ ' ' + doc_to_index['Authors']\n",
    "\n",
    "# preprocessing\n",
    "text_doc = doc_to_index.Text\n",
    "processed_text_doc = text_doc.apply(preprocessText)\n",
    "\n",
    "# create an empty dictionary for inveted index\n",
    "inverted_index_db = defaultdict(list)\n",
    "\n",
    "# create inverted index\n",
    "createInvertedIndex(processed_text_doc, inverted_index_db)\n",
    "\n",
    "# tfidf vectorizer\n",
    "vectorizer = TfidfVectorizer()\n",
    "tfidf_matrix = vectorizer.fit_transform(processed_text_doc)\n",
    "\n",
    "# the given seed url\n",
    "seed_url = \"https://pureportal.coventry.ac.uk/en/organisations/centre-global-learning\"\n",
    "\n",
    "# CGL profiles list\n",
    "profiles = CGLprofiles()"
   ]
  },
  {
   "cell_type": "markdown",
   "id": "e1154e07",
   "metadata": {},
   "source": [
    "### Demonstration of the Search"
   ]
  },
  {
   "cell_type": "markdown",
   "id": "d9da96ab",
   "metadata": {},
   "source": [
    "Take query from the user"
   ]
  },
  {
   "cell_type": "code",
   "execution_count": 12,
   "id": "63bab760",
   "metadata": {
    "scrolled": false
   },
   "outputs": [],
   "source": [
    "# # uncomment and run this if you want to take input from input box\n",
    "# query = input(\"enter: \")\n",
    "# print('')\n",
    "# print(\"----------------------------------------------------------------------\\n\")\n",
    "# search(query)"
   ]
  },
  {
   "cell_type": "code",
   "execution_count": 13,
   "id": "31a7524a",
   "metadata": {},
   "outputs": [
    {
     "name": "stdout",
     "output_type": "stream",
     "text": [
      "No matching result for \"  \". Please try another.\n",
      "Total results displayed:  0\n"
     ]
    }
   ],
   "source": [
    "# 1. when query is empty\n",
    "search(\"\")"
   ]
  },
  {
   "cell_type": "code",
   "execution_count": 14,
   "id": "14f3c7f3",
   "metadata": {
    "scrolled": false
   },
   "outputs": [
    {
     "name": "stdout",
     "output_type": "stream",
     "text": [
      "No matching result for \" avishek kc \". Please try another.\n",
      "Total results displayed:  0\n"
     ]
    }
   ],
   "source": [
    "# 2. when query is irrelevant\n",
    "# like my name, avishek\n",
    "search(\"avishek kc\")"
   ]
  },
  {
   "cell_type": "code",
   "execution_count": 15,
   "id": "a63101d3",
   "metadata": {
    "scrolled": false
   },
   "outputs": [
    {
     "name": "stdout",
     "output_type": "stream",
     "text": [
      "1 . Summary matters: How lecturers review and preview information in engineering lectures\n",
      "https://pureportal.coventry.ac.uk/en/publications/summary-matters-how-lecturers-review-and-preview-information-in-e\n",
      "\n",
      "Authors:\n",
      "Sian Alsop\n",
      "https://pureportal.coventry.ac.uk/en/persons/sian-alsop\n",
      "\n",
      "Date:  5 Jul 2018\n",
      "----------------------------------------------------------------------\n",
      "\n",
      "2 . Exploring differential engagement with mathematics support from an engineering student focus\n",
      "https://pureportal.coventry.ac.uk/en/publications/exploring-differential-engagement-with-mathematics-support-from-a\n",
      "\n",
      "Authors:\n",
      "Farhana Gokhool\n",
      "\n",
      "Duncan Lawson\n",
      "\n",
      "Mark Hodds\n",
      "https://pureportal.coventry.ac.uk/en/persons/mark-hodds\n",
      "Farzana Aslam\n",
      "\n",
      "\n",
      "Date:  23 Dec 2021\n",
      "----------------------------------------------------------------------\n",
      "\n",
      "Total results displayed:  2\n"
     ]
    }
   ],
   "source": [
    "# 3. when publication exists\n",
    "search(\"engine\")"
   ]
  },
  {
   "cell_type": "code",
   "execution_count": 16,
   "id": "971b8c70",
   "metadata": {
    "scrolled": false
   },
   "outputs": [
    {
     "name": "stdout",
     "output_type": "stream",
     "text": [
      "1 . Summary matters: How lecturers review and preview information in engineering lectures\n",
      "https://pureportal.coventry.ac.uk/en/publications/summary-matters-how-lecturers-review-and-preview-information-in-e\n",
      "\n",
      "Authors:\n",
      "Sian Alsop\n",
      "https://pureportal.coventry.ac.uk/en/persons/sian-alsop\n",
      "\n",
      "Date:  5 Jul 2018\n",
      "----------------------------------------------------------------------\n",
      "\n",
      "2 . Exploring differential engagement with mathematics support from an engineering student focus\n",
      "https://pureportal.coventry.ac.uk/en/publications/exploring-differential-engagement-with-mathematics-support-from-a\n",
      "\n",
      "Authors:\n",
      "Farhana Gokhool\n",
      "\n",
      "Duncan Lawson\n",
      "\n",
      "Mark Hodds\n",
      "https://pureportal.coventry.ac.uk/en/persons/mark-hodds\n",
      "Farzana Aslam\n",
      "\n",
      "\n",
      "Date:  23 Dec 2021\n",
      "----------------------------------------------------------------------\n",
      "\n",
      "Total results displayed:  2\n"
     ]
    }
   ],
   "source": [
    "# 4. with punctuations\n",
    "search(\"_{;engine!!!@#$%\")"
   ]
  },
  {
   "cell_type": "code",
   "execution_count": 17,
   "id": "758315f5",
   "metadata": {
    "scrolled": false
   },
   "outputs": [
    {
     "name": "stdout",
     "output_type": "stream",
     "text": [
      "1 . What does it Mean to be Educated in Nigerian Student Experience?\n",
      "https://pureportal.coventry.ac.uk/en/publications/what-does-it-mean-to-be-educated-in-nigerian-student-experience\n",
      "\n",
      "Authors:\n",
      "Emmanuel Johnson\n",
      "https://pureportal.coventry.ac.uk/en/persons/emmanuel-johnson\n",
      "\n",
      "Date:  1 Jun 2023\n",
      "----------------------------------------------------------------------\n",
      "\n",
      "2 . Becoming Nigerian\n",
      "https://pureportal.coventry.ac.uk/en/publications/becoming-nigerian\n",
      "\n",
      "Authors:\n",
      "Emmanuel Johnson\n",
      "https://pureportal.coventry.ac.uk/en/persons/emmanuel-johnson\n",
      "Godswill Ezeonyeka\n",
      "\n",
      "Aisha Houmadi\n",
      "\n",
      "Inemesit Inyang\n",
      "\n",
      "Lizzy Johnson\n",
      "\n",
      "Misal Eskender\n",
      "\n",
      "\n",
      "Date:  25 Mar 2023\n",
      "----------------------------------------------------------------------\n",
      "\n",
      "Total results displayed:  2\n"
     ]
    }
   ],
   "source": [
    "# 5. with stop words \n",
    "search(\"how to be a nigerian\")"
   ]
  },
  {
   "cell_type": "code",
   "execution_count": 18,
   "id": "087d629a",
   "metadata": {
    "scrolled": false
   },
   "outputs": [
    {
     "name": "stdout",
     "output_type": "stream",
     "text": [
      "1 . Global Learning and Assessment; How can global citizenship-oriented curricula enhance teaching training?\n",
      "https://pureportal.coventry.ac.uk/en/publications/global-learning-and-assessment-how-can-global-citizenship-oriente\n",
      "\n",
      "Authors:\n",
      "Arinola Adefila\n",
      "\n",
      "QueAnh Dang\n",
      "https://pureportal.coventry.ac.uk/en/persons/queanh-dang\n",
      "Alun DeWinter\n",
      "https://pureportal.coventry.ac.uk/en/persons/alun-dewinter\n",
      "Luca Morini\n",
      "https://pureportal.coventry.ac.uk/en/persons/luca-morini\n",
      "Katherine Wimpenny\n",
      "https://pureportal.coventry.ac.uk/en/persons/katherine-wimpenny\n",
      "\n",
      "Date:  2022\n",
      "----------------------------------------------------------------------\n",
      "\n",
      "2 . Global knowledge-exchange for widening participation in learning through Open Education Practices\n",
      "https://pureportal.coventry.ac.uk/en/publications/global-knowledge-exchange-for-widening-participation-in-learning-\n",
      "\n",
      "Authors:\n",
      "Katherine Wimpenny\n",
      "https://pureportal.coventry.ac.uk/en/persons/katherine-wimpenny\n",
      "\n",
      "Date:  13 May 2019\n",
      "----------------------------------------------------------------------\n",
      "\n",
      "3 . Global Citizenship Education and Sustainability: overcoming contradictions, tensions, rhetoric, and ‘flaws’: Global Citizenship and Borderland Learning \n",
      "https://pureportal.coventry.ac.uk/en/publications/global-citizenship-education-and-sustainability-overcoming-contra\n",
      "\n",
      "Authors:\n",
      "Dalene Swanson\n",
      "\n",
      "Douglas Bourn\n",
      "\n",
      "Katherine Wimpenny\n",
      "https://pureportal.coventry.ac.uk/en/persons/katherine-wimpenny\n",
      "Jenny Hatley\n",
      "\n",
      "Mostafa Gamal\n",
      "\n",
      "Sally Findlow\n",
      "\n",
      "\n",
      "Date:  6 Sept 2022\n",
      "----------------------------------------------------------------------\n",
      "\n",
      "4 . Throwing light on fee-charging tutoring during the global pandemic in Kazakhstan: implications for the future of higher education\n",
      "https://pureportal.coventry.ac.uk/en/publications/throwing-light-on-fee-charging-tutoring-during-the-global-pandemi\n",
      "\n",
      "Authors:\n",
      "Anas Hajar\n",
      "\n",
      "Mehmet Karakus\n",
      "https://pureportal.coventry.ac.uk/en/persons/mehmet-karakus\n",
      "\n",
      "Date:  26 Feb 2023\n",
      "----------------------------------------------------------------------\n",
      "\n",
      "5 . Coming out of the shadows: Investing in English private tutoring at a transition point in Kazakhstan’s education system during the global pandemic\n",
      "https://pureportal.coventry.ac.uk/en/publications/coming-out-of-the-shadows-investing-in-english-private-tutoring-a\n",
      "\n",
      "Authors:\n",
      "Anas Hajar\n",
      "\n",
      "Mehmet Karakus\n",
      "https://pureportal.coventry.ac.uk/en/persons/mehmet-karakus\n",
      "\n",
      "Date:  29 May 2023\n",
      "----------------------------------------------------------------------\n",
      "\n",
      "6 . Knowing, Being, Relating and Expressing through Third Space Global South-North COIL: Digital Inclusion and Equity in International Higher Education\n",
      "https://pureportal.coventry.ac.uk/en/publications/knowing-being-relating-and-expressing-through-third-space-global-\n",
      "\n",
      "Authors:\n",
      "Katherine Wimpenny\n",
      "https://pureportal.coventry.ac.uk/en/persons/katherine-wimpenny\n",
      "Kyria Finardi\n",
      "\n",
      "Marina Orsini-Jones\n",
      "https://pureportal.coventry.ac.uk/en/persons/marina-orsini-jones\n",
      "Lynette Jacobs\n",
      "\n",
      "\n",
      "Date:  19 May 2022\n",
      "----------------------------------------------------------------------\n",
      "\n",
      "7 . From COIL to curriculum transformation in South Africa: How can curriculum decolonization operate in the third space in Global South-North collaborations?\n",
      "https://pureportal.coventry.ac.uk/en/publications/from-coil-to-curriculum-transformation-in-south-africa-how-can-cu\n",
      "\n",
      "Authors:\n",
      "Jos Beelen\n",
      "\n",
      "Katherine Wimpenny\n",
      "https://pureportal.coventry.ac.uk/en/persons/katherine-wimpenny\n",
      "Cornelius Hagenmeier\n",
      "\n",
      "Lynette Jones\n",
      "\n",
      "\n",
      "Date:  3 Dec 2020\n",
      "----------------------------------------------------------------------\n",
      "\n",
      "Total results displayed:  7\n"
     ]
    }
   ],
   "source": [
    "# 6. ranked retrieval\n",
    "search(\"global\")"
   ]
  },
  {
   "cell_type": "code",
   "execution_count": 19,
   "id": "19b74d7f",
   "metadata": {
    "scrolled": false
   },
   "outputs": [
    {
     "name": "stdout",
     "output_type": "stream",
     "text": [
      "1 . The impact of Covid-19 on mathematical entry competencies: 1 year on\n",
      "https://pureportal.coventry.ac.uk/en/publications/the-impact-of-covid-19-on-mathematical-entry-competencies-1-year-\n",
      "\n",
      "Authors:\n",
      "Mark Hodds\n",
      "https://pureportal.coventry.ac.uk/en/persons/mark-hodds\n",
      "\n",
      "Date:  18 Jan 2023\n",
      "----------------------------------------------------------------------\n",
      "\n",
      "2 . Changes in student entry competencies 2001 - 2017\n",
      "https://pureportal.coventry.ac.uk/en/publications/changes-in-student-entry-competencies-2001-2017\n",
      "\n",
      "Authors:\n",
      "Mark Hodds\n",
      "https://pureportal.coventry.ac.uk/en/persons/mark-hodds\n",
      "Jia Shao\n",
      "\n",
      "Duncan Lawson\n",
      "\n",
      "\n",
      "Date:  10 Dec 2020\n",
      "----------------------------------------------------------------------\n",
      "\n",
      "3 . The early impact of the Covid-19 pandemic on mathematical competencies on entry into a UK university\n",
      "https://pureportal.coventry.ac.uk/en/publications/the-early-impact-of-the-covid-19-pandemic-on-mathematical-compete\n",
      "\n",
      "Authors:\n",
      "Mark Hodds\n",
      "https://pureportal.coventry.ac.uk/en/persons/mark-hodds\n",
      "\n",
      "Date:  8 Oct 2021\n",
      "----------------------------------------------------------------------\n",
      "\n",
      "4 . Editorial: CETL-MSOR Conference Special Issue 1: Responding to the COVID-19 pandemic\n",
      "https://pureportal.coventry.ac.uk/en/publications/editorial-cetl-msor-conference-special-issue-1-responding-to-the-\n",
      "\n",
      "Authors:\n",
      "Mark Hodds\n",
      "https://pureportal.coventry.ac.uk/en/persons/mark-hodds\n",
      "Peter Rowlett\n",
      "\n",
      "\n",
      "Date:  25 Mar 2022\n",
      "----------------------------------------------------------------------\n",
      "\n",
      "5 . Editorial: CETL-MSOR Conference Special Issue 2: Innovations in teaching, learning, assessment and support\n",
      "https://pureportal.coventry.ac.uk/en/publications/editorial-cetl-msor-conference-special-issue-2-innovations-in-tea\n",
      "\n",
      "Authors:\n",
      "Mark Hodds\n",
      "https://pureportal.coventry.ac.uk/en/persons/mark-hodds\n",
      "Peter Rowlett\n",
      "\n",
      "\n",
      "Date:  12 May 2022\n",
      "----------------------------------------------------------------------\n",
      "\n",
      "6 . Exploring differential engagement with mathematics support from an engineering student focus\n",
      "https://pureportal.coventry.ac.uk/en/publications/exploring-differential-engagement-with-mathematics-support-from-a\n",
      "\n",
      "Authors:\n",
      "Farhana Gokhool\n",
      "\n",
      "Duncan Lawson\n",
      "\n",
      "Mark Hodds\n",
      "https://pureportal.coventry.ac.uk/en/persons/mark-hodds\n",
      "Farzana Aslam\n",
      "\n",
      "\n",
      "Date:  23 Dec 2021\n",
      "----------------------------------------------------------------------\n",
      "\n",
      "7 . “Everyone seems to be agreeing at the minute that face-to-face is the way forward”: Practitioners’ perspectives on post-pandemic Mathematics and Statistics Support\n",
      "https://pureportal.coventry.ac.uk/en/publications/everyone-seems-to-be-agreeing-at-the-minute-that-face-to-face-is-\n",
      "\n",
      "Authors:\n",
      "Holly Gilbert\n",
      "\n",
      "Mark Hodds\n",
      "https://pureportal.coventry.ac.uk/en/persons/mark-hodds\n",
      "Duncan Lawson\n",
      "\n",
      "\n",
      "Date:  6 Oct 2021\n",
      "----------------------------------------------------------------------\n",
      "\n",
      "8 . Playful Participatory Mapping – Co-creating Games to Foster Systems Thinking\n",
      "https://pureportal.coventry.ac.uk/en/publications/playful-participatory-mapping-co-creating-games-to-foster-systems\n",
      "\n",
      "Authors:\n",
      "Luca Morini\n",
      "https://pureportal.coventry.ac.uk/en/persons/luca-morini\n",
      "Yung-Fang Chen\n",
      "\n",
      "Arinola Adefila\n",
      "\n",
      "Dominic Mahon\n",
      "\n",
      "Mark Dawson\n",
      "\n",
      "Fitri Mohamad\n",
      "\n",
      "Jacey-Lynn Minoi\n",
      "\n",
      "Gilson Schwartz\n",
      "\n",
      "\n",
      "Date:  2022\n",
      "----------------------------------------------------------------------\n",
      "\n",
      "9 . Post-pandemic online mathematics and statistics support: Practitioners’ opinions in Germany and Great Britain & Ireland\n",
      "https://pureportal.coventry.ac.uk/en/publications/post-pandemic-online-mathematics-and-statistics-support-practitio\n",
      "\n",
      "Authors:\n",
      "Holly Jade Gilbert\n",
      "\n",
      "Mirko Schürmann\n",
      "\n",
      "Duncan Lawson\n",
      "\n",
      "Michael Liebendörfer\n",
      "\n",
      "Mark Hodds\n",
      "https://pureportal.coventry.ac.uk/en/persons/mark-hodds\n",
      "\n",
      "Date:  19 Mar 2023\n",
      "----------------------------------------------------------------------\n",
      "\n",
      "Total results displayed:  9\n"
     ]
    }
   ],
   "source": [
    "# 7. search by authors name\n",
    "search(\"mark\")"
   ]
  },
  {
   "cell_type": "markdown",
   "id": "454ae535",
   "metadata": {},
   "source": [
    "### Remarks"
   ]
  },
  {
   "cell_type": "markdown",
   "id": "2a5027d3",
   "metadata": {},
   "source": [
    "Notice:<br>\n",
    "1. Only publications from Centre for Global Learning are displayed.<br>\n",
    "2. At least one of the co-authors is from CGL. Link is displayed for CGL authors.<br>\n",
    "3. Can also be searched by authors name.<br>\n",
    "4. Ranked retrieval using cosine similarity.<br>\n",
    "5. The results are numbered. <br>\n",
    "6. Total number of results displayed each time is shown at the end."
   ]
  },
  {
   "cell_type": "markdown",
   "id": "8f7e7a2c",
   "metadata": {},
   "source": [
    "# User Interface"
   ]
  },
  {
   "cell_type": "markdown",
   "id": "7384d17f",
   "metadata": {},
   "source": [
    "I have implemented the User Interface using tkinter. The codes are easy to understand and write."
   ]
  },
  {
   "cell_type": "markdown",
   "id": "e16225e9",
   "metadata": {},
   "source": [
    "When you run the below code, a separate window opens up."
   ]
  },
  {
   "cell_type": "code",
   "execution_count": 20,
   "id": "a1f559e8",
   "metadata": {},
   "outputs": [],
   "source": [
    "import tkinter as tk\n",
    "from tkinter import *\n",
    "from tkinter import ttk\n",
    "import sys\n",
    "import webbrowser\n",
    "import re\n",
    "import io\n",
    "\n",
    "def clickHyperlink(url):\n",
    "    webbrowser.open_new(url)\n",
    "    \n",
    "def createHyperlinks(text_widget, text):\n",
    "    text_widget.insert(tk.END, text)\n",
    "    \n",
    "    urls = re.findall(r\"https?://\\S+\", text)\n",
    "    for url in urls:\n",
    "        index = \"1.0\"\n",
    "        while True:\n",
    "            index = text_widget.search(url, index, stopindex=tk.END)\n",
    "            if not index:\n",
    "                break\n",
    "            if index in text_widget.tag_names():\n",
    "                # skip already tagged urls\n",
    "                index = f\"{index}+1c\"\n",
    "                continue\n",
    "            tag_name = f\"hyperlink_{len(text_widget.tag_names())}\"\n",
    "            text_widget.tag_add(tag_name, index, f\"{index}+{len(url)}c\")\n",
    "            text_widget.tag_config(tag_name, foreground='blue', underline=True)\n",
    "            text_widget.tag_bind(tag_name, \"<Button-1>\", lambda event, link=url: clickHyperlink(link))\n",
    "            \n",
    "            index = f\"{index}+1c\" # move to the next character for the next search\n",
    "\n",
    "def clickSearch(*args):\n",
    "    try:\n",
    "        value = (query.get())\n",
    "        \n",
    "        console_output = sys.stdout\n",
    "        sys.stdout = io.StringIO()\n",
    "        \n",
    "        search(value)\n",
    "        \n",
    "        # capture the console output and update the text_widget\n",
    "        result = sys.stdout.getvalue()\n",
    "        \n",
    "        # clear previous output\n",
    "        text_widget.delete(1.0, tk.END)  \n",
    "        createHyperlinks(text_widget, result)\n",
    "\n",
    "        # restore stdout\n",
    "        sys.stdout = console_output\n",
    "        \n",
    "    except ValueError:\n",
    "        pass\n",
    "\n",
    "root = Tk()\n",
    "root.title(\"CU CGL Search Engine\")\n",
    "\n",
    "mainframe = ttk.Frame(root, padding=\"3 3 12 12\")\n",
    "mainframe.grid(column=0, row=0, sticky=(N, W, E, S))\n",
    "root.columnconfigure(0, weight=1)\n",
    "root.rowconfigure(0, weight=1)\n",
    "\n",
    "ttk.Label(mainframe, text=\"Enter text\").grid(column=0, row=0, sticky=E)\n",
    "\n",
    "query = StringVar()\n",
    "query_entry = ttk.Entry(mainframe, width=25, textvariable=query)\n",
    "query_entry.grid(column=1, row=0, sticky=(W, E))\n",
    "\n",
    "ttk.Button(mainframe, text=\"Search\", command=clickSearch).grid(column=2, row=0, sticky=W)\n",
    "\n",
    "text_widget = tk.Text(mainframe, wrap=\"word\", font=(\"Arial\", 12))\n",
    "text_widget.grid(column=0, row=1, columnspan=3, sticky=(N, W, E, S))\n",
    "\n",
    "mainframe.columnconfigure(0, weight=1)\n",
    "mainframe.columnconfigure(1, weight=3)\n",
    "mainframe.columnconfigure(2, weight=1)\n",
    "mainframe.rowconfigure(0, weight=1)\n",
    "mainframe.rowconfigure(1, weight=3)\n",
    "\n",
    "for child in mainframe.winfo_children(): \n",
    "    child.grid_configure(padx=5, pady=5)\n",
    "\n",
    "query_entry.focus()\n",
    "root.bind(\"<Return>\", clickSearch)\n",
    "\n",
    "root.mainloop()"
   ]
  },
  {
   "cell_type": "markdown",
   "id": "8dfcc672",
   "metadata": {},
   "source": [
    "<i>Thank you for reading my notebook.\n",
    "<br>\n",
    "<br>Avishek K C<br>\n",
    "2023</i>"
   ]
  }
 ],
 "metadata": {
  "kernelspec": {
   "display_name": "Python 3 (ipykernel)",
   "language": "python",
   "name": "python3"
  },
  "language_info": {
   "codemirror_mode": {
    "name": "ipython",
    "version": 3
   },
   "file_extension": ".py",
   "mimetype": "text/x-python",
   "name": "python",
   "nbconvert_exporter": "python",
   "pygments_lexer": "ipython3",
   "version": "3.9.13"
  }
 },
 "nbformat": 4,
 "nbformat_minor": 5
}
